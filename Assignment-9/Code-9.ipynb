{
 "cells": [
  {
   "cell_type": "code",
   "execution_count": 1,
   "metadata": {},
   "outputs": [
    {
     "name": "stdout",
     "output_type": "stream",
     "text": [
      "Minimum value is at m= 2.00000000000000\n",
      "Minimum value is at c= 3.00000000000000\n"
     ]
    }
   ],
   "source": [
    "from sympy import * \n",
    "dtx=[0.2,0.4,0.6,0.8]\n",
    "dty=[3.4,3.8,4.2,4.6]\n",
    "test_x=[1.0,1.2]\n",
    "test_y=[5.0,5.4]\n",
    "#step-1\n",
    "m0=1\n",
    "c0=-1\n",
    "gaama=0.9\n",
    "epochs=100\n",
    "learningrate=0.1\n",
    "vm=vc=0\n",
    "\n",
    "#step-2\n",
    "x=Symbol('x')\n",
    "y=Symbol('y')\n",
    "m=Symbol('m')\n",
    "c=Symbol('c')\n",
    "E=(0.5)*(y-(m*x)-c)**2\n",
    "fx=x**2+y**2+10\n",
    "Em=E.diff(m)\n",
    "Ec=E.diff(c)\n",
    "\n",
    "for itr in range(0,epochs):  #step-7\n",
    " for s in range(0,len(dtx)): #step-6\n",
    "  #step-3\n",
    "  dfEm=Em.subs(m,m0)\n",
    "  dfEm=dfEm.subs(c,c0) \n",
    "  dfEm=dfEm.subs(x,dtx[s]) \n",
    "  dfEm=dfEm.subs(y,dty[s])\n",
    "  dfEm=round(dfEm,2)\n",
    "  dfEc=Ec.subs(m,m0)\n",
    "  dfEc=dfEc.subs(c,c0) \n",
    "  dfEc=dfEc.subs(x,dtx[s]) \n",
    "  dfEc=dfEc.subs(y,dty[s])\n",
    "  dfEc=round(dfEc,2)\n",
    "  #step-4\n",
    "  vm=(gaama*vm)-(learningrate*dfEm)\n",
    "  vc=(gaama*vc)-(learningrate*dfEc)\n",
    " \n",
    "  #step-5\n",
    "  m0=m0+vm\n",
    "  c0=c0+vc\n",
    "  m0=round(m0,2)\n",
    "  c0=round(c0,2)\n",
    "#step-7\n",
    "print('Minimum value is at m=',m0)\n",
    "print('Minimum value is at c=',c0)"
   ]
  },
  {
   "cell_type": "code",
   "execution_count": null,
   "metadata": {},
   "outputs": [],
   "source": []
  }
 ],
 "metadata": {
  "kernelspec": {
   "display_name": "Python 3",
   "language": "python",
   "name": "python3"
  },
  "language_info": {
   "codemirror_mode": {
    "name": "ipython",
    "version": 3
   },
   "file_extension": ".py",
   "mimetype": "text/x-python",
   "name": "python",
   "nbconvert_exporter": "python",
   "pygments_lexer": "ipython3",
   "version": "3.8.3"
  }
 },
 "nbformat": 4,
 "nbformat_minor": 4
}
