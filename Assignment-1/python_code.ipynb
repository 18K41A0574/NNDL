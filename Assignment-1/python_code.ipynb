{
 "cells": [
  {
   "cell_type": "code",
   "execution_count": 40,
   "metadata": {},
   "outputs": [
    {
     "name": "stdout",
     "output_type": "stream",
     "text": [
      "Minimum value for given function is obtained at x= 0\n",
      "Minimum value is:  10\n"
     ]
    }
   ],
   "source": [
    "from sympy import * \n",
    "\n",
    "x0=1 \n",
    "epochs=100\n",
    "learningrate=0.1\n",
    "\n",
    "x=Symbol('x')\n",
    "y=diff(x**4+3*x**2+10,x)\n",
    "\n",
    "for itr in range(0,epochs):  \n",
    "  df=y.subs(x,x0)\n",
    "  df=round(df,2)\n",
    "\n",
    "  x1=(-1)*(learningrate)*df\n",
    "  x1=round(x1,2)\n",
    "\n",
    "  x0=x0+x1\n",
    "  x0=round(x0,2)\n",
    "  \n",
    "  if itr>epochs:\n",
    "    break\n",
    "  else:\n",
    "    continue\n",
    "\n",
    "print('Minimum value for given function is obtained at x=',x0)\n",
    "temp=x0**4+3*x0**2+10\n",
    "print('Minimum value is: ',temp)"
   ]
  }
 ],
 "metadata": {
  "kernelspec": {
   "display_name": "Python 3",
   "language": "python",
   "name": "python3"
  },
  "language_info": {
   "codemirror_mode": {
    "name": "ipython",
    "version": 3
   },
   "file_extension": ".py",
   "mimetype": "text/x-python",
   "name": "python",
   "nbconvert_exporter": "python",
   "pygments_lexer": "ipython3",
   "version": "3.8.3"
  }
 },
 "nbformat": 4,
 "nbformat_minor": 4
}
