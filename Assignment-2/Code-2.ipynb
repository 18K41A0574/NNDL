{
 "cells": [
  {
   "cell_type": "code",
   "execution_count": 1,
   "metadata": {},
   "outputs": [
    {
     "name": "stdout",
     "output_type": "stream",
     "text": [
      "Minimum value for x= 0.02\n",
      "Minimum value for y= -0.02\n"
     ]
    }
   ],
   "source": [
    "from sympy import * \n",
    "#step-1\n",
    "x0=1\n",
    "y0=-1\n",
    "epochs=100\n",
    "learningrate=0.1\n",
    "\n",
    "#step-2\n",
    "x=Symbol('x')\n",
    "y=Symbol('y')\n",
    "fun=x**2+y**2+10\n",
    "fx=fun.diff(x)\n",
    "fy=fun.diff(y)\n",
    "for itr in range(0,epochs):  #step-5\n",
    " dfx=fx.subs(x,x0)\n",
    " dfy=fy.subs(y,y0)\n",
    " dfx=round(dfx,2)\n",
    " dfy=round(dfy,2)\n",
    " #step-3\n",
    " cx=-1*(learningrate)*dfx\n",
    " cy=-1*(learningrate)*dfy\n",
    " cx=round(cx,2)\n",
    " cy=round(cy,2)\n",
    " \n",
    " #step-4\n",
    " x0=x0+cx\n",
    " y0=y0+cy\n",
    " x0=round(x0,2)\n",
    " y0=round(y0,2)\n",
    "    \n",
    " #step-6\n",
    " if itr>epochs:\n",
    "  break\n",
    " else:\n",
    "  continue\n",
    "#step-7\n",
    "print('Minimum value for x=',x0)\n",
    "print('Minimum value for y=',y0)"
   ]
  },
  {
   "cell_type": "code",
   "execution_count": null,
   "metadata": {},
   "outputs": [],
   "source": []
  }
 ],
 "metadata": {
  "kernelspec": {
   "display_name": "Python 3",
   "language": "python",
   "name": "python3"
  },
  "language_info": {
   "codemirror_mode": {
    "name": "ipython",
    "version": 3
   },
   "file_extension": ".py",
   "mimetype": "text/x-python",
   "name": "python",
   "nbconvert_exporter": "python",
   "pygments_lexer": "ipython3",
   "version": "3.8.3"
  }
 },
 "nbformat": 4,
 "nbformat_minor": 4
}
