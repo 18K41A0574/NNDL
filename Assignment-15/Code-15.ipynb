{
 "cells": [
  {
   "cell_type": "code",
   "execution_count": 1,
   "metadata": {},
   "outputs": [
    {
     "name": "stdout",
     "output_type": "stream",
     "text": [
      "Minimum value is at m= 1.56\n",
      "Minimum value is at c= 2.39\n"
     ]
    }
   ],
   "source": [
    "from sympy import * \n",
    "dtx=[0.2,0.4,0.6,0.8]\n",
    "dty=[3.4,3.8,4.2,4.6]\n",
    "test_x=[1.0,1.2]\n",
    "test_y=[5.0,5.4]\n",
    "#step-1\n",
    "m0=1\n",
    "c0=-1\n",
    "epochs=100\n",
    "learningrate=0.5\n",
    "gaama=0.9\n",
    "ep=10**(-8)\n",
    "gm=0\n",
    "gc=0\n",
    "\n",
    "#step-2\n",
    "x=Symbol('x')\n",
    "y=Symbol('y')\n",
    "m=Symbol('m')\n",
    "c=Symbol('c')\n",
    "fx=0.5*(y-m*x-c)**2\n",
    "dfm=fx.diff(m)\n",
    "dfc=fx.diff(c)\n",
    "for itr in range(0,epochs):  #step-7\n",
    "    for s in range(0,len(dtx)): #step-6\n",
    "        #step-3\n",
    "        dfVm=dfm.subs(m,m0) \n",
    "        dfVm=dfVm.subs(c,c0) \n",
    "        dfVm=dfVm.subs(x,dtx[s]) \n",
    "        dfVm=dfVm.subs(y,dty[s]) \n",
    "        dfVm=round(dfVm,2)\n",
    "        dfVc=dfc.subs(c,c0) \n",
    "        dfVc=dfVc.subs(m,m0) \n",
    "        dfVc=dfVc.subs(x,dtx[s]) \n",
    "        dfVc=dfVc.subs(y,dty[s]) \n",
    "        dfVc=round(dfVc,2)\n",
    "        gm=gaama*gm+(1-gaama)*(dfVm**2)\n",
    "        gc=gaama*gc+(1-gaama)*(dfVc**2)\n",
    "        #step-4\n",
    "        dm=(-1.0)*(learningrate/(gm+ep)**(0.5))*dfVm\n",
    "        dc=(-1.0)*(learningrate/(gc+ep)**(0.5))*dfVc\n",
    "        #step-5 \n",
    "        m0=m0+dm \n",
    "        c0=c0+dc\n",
    "        m0=round(m0,2)\n",
    "        c0=round(c0,2)\n",
    "#step-8\n",
    "print('Minimum value is at m=',m0)\n",
    "print('Minimum value is at c=',c0)"
   ]
  },
  {
   "cell_type": "code",
   "execution_count": 2,
   "metadata": {},
   "outputs": [
    {
     "data": {
      "text/plain": [
       "0.6983018636703489"
      ]
     },
     "execution_count": 2,
     "metadata": {},
     "output_type": "execute_result"
    }
   ],
   "source": [
    "data_pred=[]\n",
    "for i in dtx:\n",
    "    data_pred.append(m0*i+c0)\n",
    "from sklearn.metrics import mean_squared_error\n",
    "mse = mean_squared_error(dty,data_pred)\n",
    "mse"
   ]
  },
  {
   "cell_type": "code",
   "execution_count": null,
   "metadata": {},
   "outputs": [],
   "source": []
  }
 ],
 "metadata": {
  "kernelspec": {
   "display_name": "Python 3",
   "language": "python",
   "name": "python3"
  },
  "language_info": {
   "codemirror_mode": {
    "name": "ipython",
    "version": 3
   },
   "file_extension": ".py",
   "mimetype": "text/x-python",
   "name": "python",
   "nbconvert_exporter": "python",
   "pygments_lexer": "ipython3",
   "version": "3.8.3"
  }
 },
 "nbformat": 4,
 "nbformat_minor": 4
}
